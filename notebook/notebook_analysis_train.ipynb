{
 "cells": [
  {
   "cell_type": "markdown",
   "metadata": {},
   "source": [
    "# Problema de prediccion de ventas"
   ]
  },
  {
   "cell_type": "markdown",
   "metadata": {},
   "source": [
    "## Planteamiento del problema y Objetivo:"
   ]
  },
  {
   "cell_type": "markdown",
   "metadata": {},
   "source": [
    "El objetivo es construir un modelo de regresión simple para predecir las **ventas por producto de una tienda en particular**, que forma parte de una cadena de tiendas, y descubrir cuáles son los **principales factores que influencian dicha predicción**."
   ]
  },
  {
   "cell_type": "markdown",
   "metadata": {},
   "source": [
    "### Importando Librerías"
   ]
  },
  {
   "cell_type": "code",
   "execution_count": null,
   "metadata": {},
   "outputs": [],
   "source": [
    "import pandas as pd\n",
    "import numpy as np\n",
    "import matplotlib.pyplot as plt\n",
    "%matplotlib inline\n",
    "import datetime as dt\n",
    "import seaborn as sns\n",
    "from scipy import stats"
   ]
  },
  {
   "cell_type": "markdown",
   "metadata": {},
   "source": [
    "### Lectura de los datasets"
   ]
  },
  {
   "cell_type": "code",
   "execution_count": null,
   "metadata": {},
   "outputs": [],
   "source": [
    "data_train = pd.read_csv('../data/Train_BigMart.csv')\n",
    "data_test = pd.read_csv('../data/Test_BigMart.csv')\n",
    "# Identificando la data de train y de test, para posteriormente unión y separación\n",
    "data_train['Set'] = 'train'\n",
    "data_test['Set'] = 'test'"
   ]
  },
  {
   "cell_type": "markdown",
   "metadata": {},
   "source": [
    "Combinando los dataset de *entrenamiento y test* para proceder a realizar la exploración, visualización, limpieza de datos, y posterior ingeniería de características y codificación de variables."
   ]
  },
  {
   "cell_type": "code",
   "execution_count": null,
   "metadata": {},
   "outputs": [],
   "source": [
    "data = pd.concat([data_train, data_test], ignore_index=True, sort=False)\n",
    "data.head(20)"
   ]
  },
  {
   "cell_type": "markdown",
   "metadata": {},
   "source": [
    "## EXPLORACIÓN DE LOS DATOS\n",
    "Obteniendo una visión general del conjunto de datos y verificando los tipos de datos, conociendo las posibles variables de entradas y el target; así también la distribución de estos valores:"
   ]
  },
  {
   "cell_type": "code",
   "execution_count": null,
   "metadata": {},
   "outputs": [],
   "source": [
    "print('Variables:', list(data.columns))"
   ]
  },
  {
   "cell_type": "markdown",
   "metadata": {},
   "source": [
    "###  Resumen de los datasets"
   ]
  },
  {
   "cell_type": "code",
   "execution_count": null,
   "metadata": {},
   "outputs": [],
   "source": [
    "print('Número de registros de train:', data_train.shape[0], '  -   Número de variables:', data_train.shape[1])\n",
    "print('Número de registros de test:', data_test.shape[0], '  -   Número de variables:', data_test.shape[1])\n",
    "print('Número de registros totales:', data.shape[0], '  -   Número de variables:', data.shape[1])"
   ]
  },
  {
   "cell_type": "markdown",
   "metadata": {},
   "source": [
    "Visión general de las variables en cada dataset:"
   ]
  },
  {
   "cell_type": "code",
   "execution_count": null,
   "metadata": {},
   "outputs": [],
   "source": [
    "print('Dataset de entrenamiento:\\n')\n",
    "data_train.info()\n",
    "print('\\nDataset de test:\\n')\n",
    "data_test.info()\n",
    "print('\\nDataset de total:\\n')\n",
    "data.info()\n",
    "#data_train.info(), data_test.info(), data.info()"
   ]
  },
  {
   "cell_type": "markdown",
   "metadata": {},
   "source": [
    "Se tienen 8 variables de tipo \"object\" (que corresponden a variables de tipo categórica que más adelante se codificaran), 4 de tipo float64 y 1 de tipo int64 (estas 2 últimas corresponde a variables de tipo numéricas). Por lo que no corresponde por el momento realizar algún cambio en el tipo de variables.\n",
    "\n",
    "Se tiene una columna más en los datasets de train y total, correspondiente al Target (Item_Outlet_Sales).\n",
    "\n",
    "Se verifica la presencia de alguno valores faltantes. Que más adelante se trabajará con ellos."
   ]
  },
  {
   "cell_type": "markdown",
   "metadata": {},
   "source": [
    "### Variables:"
   ]
  },
  {
   "cell_type": "markdown",
   "metadata": {},
   "source": [
    "- Item_Identifier: nombre o identificador del producto \n",
    "- Item_Weight: peso del producto (en gramos)\n",
    "- Item_Fat_Content: clasificación del producto en términos de grasas contenidas en él. \n",
    "- Item_Visibility: scoring de visibilidad del producto: medida que hace referencia al conocimiento del producto en el consumidor. ¿Qué tan fácil puede ser encontrado el producto? \n",
    "- Item_Type: tipo de producto \n",
    "- Item_MRP: máximum retailed price. Precio calculado por el fabricante que indica el precio más alto que se puede cobrar por el producto. \n",
    "- Outlet_Identifier: identificador de la tienda \n",
    "- Outlet_Establishment_Year: año de lanzamiento de la tienda \n",
    "- Outlet_Size: tamaño de la tienda \n",
    "- Outlet_Location_Type: clasificación de las tiendas según ubicación \n",
    "- Outlet_Type: tipo de tienda \n",
    "- Item_Outlet_Sales: ventas del producto en cada observacion"
   ]
  },
  {
   "cell_type": "markdown",
   "metadata": {},
   "source": [
    "## Planteamiento de Hipótesis:\n",
    "Respecto a las variables que se disponen en el dataset y de acuerdo al objetivo propuesto, se plantean algunas hipótesis:\n",
    "- El peso del producto no debería influir en los niveles de venta de la tienda.\n",
    "- El contenido de grasas de los productos puede ser significativo pra el nivel de venta (Los productos con mayor contenido de grasa quiezás se compran menos).\n",
    "- La visibilidad de un producto incide en el nivel de venta de la tienda (generalmente los productos más costosos se exhiben en sitios de fácil visualización para el cliente).\n",
    "- El tipo de producto puede influir en el nivel de ventas (existe productos de mayor y menor rotación, pero también de mayor y menor precio).\n",
    "- El precio de un producto es un factor que está directamente asociado con el nivel de ventas.\n",
    "- El año de lanzamiento de la tienda, da información del tiempo de vida que puede tener la tienda; esto podría influir en el nivel del conocimiento que tiene el cliente de la existencia de la tienda, y por ende de su nivel de ventas.\n",
    "- A mayor tamaño de la tienda, mayor nivel de ventas. Las personas le suelen gustar los lugares amplios para ir de compras.\n",
    "- La ubicación de la tienda es un factor preponderante en el acceso al cliente y por ende en el nivel de ventas."
   ]
  },
  {
   "cell_type": "markdown",
   "metadata": {},
   "source": [
    "## Análisis de Datos:\n",
    "### Análisis univariado"
   ]
  },
  {
   "cell_type": "markdown",
   "metadata": {},
   "source": [
    "### Resumen estadístico de variables cuantitativas o numéricas:\n",
    "Obtener más información de los datos a través de el comportamiento y distribución de los mismos."
   ]
  },
  {
   "cell_type": "code",
   "execution_count": null,
   "metadata": {},
   "outputs": [],
   "source": [
    "data.describe()"
   ]
  },
  {
   "cell_type": "markdown",
   "metadata": {},
   "source": [
    "- Máximos y mínimos:\n",
    "\n",
    "Se observan valores dentro de rangos razonables respecto de cada tipo de variable. El valor 0 en Item_Visibility podría sugerir un registro inadecuado, sin embargo para esta fase no realizaré cambios al respecto.\n",
    "\n",
    "- Media y Desviación estándar:\n",
    "\n",
    "En general se observan valores muy dispersos (no aplica este análisis para \"Outlet_Establishment_Year\")\n",
    "\n",
    "- Recuento (count):\n",
    "\n",
    "Refleja valores perdidos en la variable \"Item_Weight\" (la diferencia de valores en la variable \"Item_Outlet_Sales\" corresponde a los valores de TARGET en el train dataset)\n",
    "\n",
    "**La variable \"Outlet_Establishment_Year\" será tomada como vida del establecimiento en años, la cual puede dar una información más valiosa.**"
   ]
  },
  {
   "cell_type": "markdown",
   "metadata": {},
   "source": [
    "### Visualizando las variables numéricas:"
   ]
  },
  {
   "cell_type": "code",
   "execution_count": null,
   "metadata": {},
   "outputs": [],
   "source": [
    "# Visualización de las caraterísticas númericas de entrada\n",
    "data.hist(column=['Item_Weight', 'Item_Visibility',\t'Item_MRP', 'Item_Outlet_Sales'], figsize=(26,4), bins=30, layout=(1,4))\n",
    "plt.show()"
   ]
  },
  {
   "cell_type": "markdown",
   "metadata": {},
   "source": [
    "TARGET: Las ventas de la tiendas (Item_Outlet_Sales) presentan una distribución con sesgo positivo, es decir, sus valores se concentran más en los niveles de ventas inferiores.\n",
    "\n",
    "Los pesos de los productos (Item_Weight) presentan una distribución clara, no se encuentra concentración de frecuencias en valores específicos.\n",
    "\n",
    "La visibilidad de los productos (Item_Visibility) también presenta una distribución sesgada positivamente, se observa mayor concentración en valores inferiores.\n",
    "\n",
    "El precio máximo por producto (Item_MRP) presenta una distribución multimodal, de aproximadamente 4 niveles de precios distintos.\n",
    "\n",
    "*Las variables sesgadas se les tratará para eliminar dicho sesgo.*\n",
    "\n",
    "- Por ahora, se realizará el cálculo de años de vida de la tienda en base al año de establecimiento y el año actual (se asume que es data del actual año 2019):"
   ]
  },
  {
   "cell_type": "markdown",
   "metadata": {},
   "source": [
    "#### FEATURES ENGINEERING: para los años del establecimiento"
   ]
  },
  {
   "cell_type": "code",
   "execution_count": null,
   "metadata": {},
   "outputs": [],
   "source": [
    "data['Outlet_Establishment_Year'] = 2020 - data['Outlet_Establishment_Year']"
   ]
  },
  {
   "cell_type": "markdown",
   "metadata": {},
   "source": [
    "## Definiendo las variables categóricas"
   ]
  },
  {
   "cell_type": "markdown",
   "metadata": {},
   "source": [
    "### Resumen estadístico de variables categóricas:"
   ]
  },
  {
   "cell_type": "code",
   "execution_count": null,
   "metadata": {},
   "outputs": [],
   "source": [
    "data.describe(include = ['object', 'category'])"
   ]
  },
  {
   "cell_type": "markdown",
   "metadata": {},
   "source": [
    "- Item_Identifier posee muchos valores únicos que no se podrán analizar de esta manera tan dispersa, se puede tratar de agrupar según alguna patrón de la codificación.\n",
    "- Item_Type también posee un número de características que se podrían agrupar para evitar trabajar con 16 valores; de ser conveniente para la predicción.\n",
    "- Las demás variables tienen número de categorías finitas convenientes para el análisis.\n",
    "- Se tienen valores faltantes en la variable Outlet_Size que habrá que trabajar.\n",
    "\n",
    "Seguido se hace una exploración más detallada:"
   ]
  },
  {
   "cell_type": "markdown",
   "metadata": {},
   "source": [
    "### Conociendo las variables categóricas:"
   ]
  },
  {
   "cell_type": "code",
   "execution_count": null,
   "metadata": {},
   "outputs": [],
   "source": [
    "categoricals = ['Item_Fat_Content', 'Item_Type', 'Outlet_Identifier', 'Outlet_Size', 'Outlet_Location_Type', 'Outlet_Type']\n",
    "for cat in categoricals:\n",
    "    print(cat, ':', set(data[cat]))"
   ]
  },
  {
   "cell_type": "markdown",
   "metadata": {},
   "source": [
    "Del análisis se observa:\n",
    "- Para \"Item_Fat_Content\" diferentes etiquetas para la misma categoría. **Acción**: unificar etiquetas.\n",
    "- Se considera reagrupar algunas categorías de \"Item_Type\"."
   ]
  },
  {
   "cell_type": "markdown",
   "metadata": {},
   "source": [
    "#### LIMPIEZA: Unificando etiquetas para 'Item_Fat_Content'"
   ]
  },
  {
   "cell_type": "code",
   "execution_count": null,
   "metadata": {},
   "outputs": [],
   "source": [
    "data['Item_Fat_Content'] = data['Item_Fat_Content'].replace({'low fat':  'Low Fat', 'LF': 'Low Fat', 'reg': 'Regular'})"
   ]
  },
  {
   "cell_type": "markdown",
   "metadata": {},
   "source": [
    "Verificamos la unificación de etiquetas:"
   ]
  },
  {
   "cell_type": "code",
   "execution_count": null,
   "metadata": {},
   "outputs": [],
   "source": [
    "set(data['Item_Fat_Content'])"
   ]
  },
  {
   "cell_type": "markdown",
   "metadata": {},
   "source": [
    "### Miramos el comportamiento de las frecuencias de las variables categóricas:"
   ]
  },
  {
   "cell_type": "code",
   "execution_count": null,
   "metadata": {},
   "outputs": [],
   "source": [
    "for aux in ['Item_Fat_Content', 'Item_Type', 'Outlet_Identifier', 'Outlet_Size', 'Outlet_Location_Type', 'Outlet_Type']:\n",
    "    print('\\n', aux, ':\\n', data[aux].value_counts())"
   ]
  },
  {
   "cell_type": "markdown",
   "metadata": {},
   "source": [
    "### Visualizando la distribucón de frecuencias de las variables categóricas:"
   ]
  },
  {
   "cell_type": "code",
   "execution_count": null,
   "metadata": {},
   "outputs": [],
   "source": [
    "for var_cat in ['Item_Fat_Content', 'Item_Type', 'Outlet_Identifier', 'Outlet_Size', 'Outlet_Location_Type', 'Outlet_Type', 'Outlet_Establishment_Year']:\n",
    "    ancho_bar = len(data[var_cat].unique())\n",
    "    plt.figure(figsize=(ancho_bar*1.8,4))\n",
    "    values = data[var_cat].dropna().sum()\n",
    "    ax = sns.countplot(x= var_cat, data=data, palette='Set2')\n",
    "    for p in ax.patches:\n",
    "        ax.annotate('{:.0f} ({:.1f}%)'.format(p.get_height(), p.get_height()/len(data)*100), (p.get_x()+0.1, p.get_height()+30))\n",
    "    plt.title('Distribución de Frecuencias de ' + var_cat)\n",
    "    plt.show()"
   ]
  },
  {
   "cell_type": "markdown",
   "metadata": {},
   "source": [
    "- El mayor porcentaje de producto corresponde a los bajos en grasas (aprox 65%)\n",
    "- Los productos con mayor registros son los vegetales-frutas y los snacks, seguidos de los productos del hogar, enlatados, lácteos, congelados y horneados. \n",
    "- Las tiendas con menores registros son la OUT10 y OUT19, el resto de las tiendas tienen un número de registros similar.\n",
    "- Se tienen mayores registros en la tiendas pequeñas y medianas.\n",
    "- El mayor número de registros de ventas lo presentan las tiendas con locación Tier 3 y las tiendas de tipo Supermarket Type1."
   ]
  },
  {
   "cell_type": "markdown",
   "metadata": {},
   "source": [
    "#### Porcentaje de valores perdidos"
   ]
  },
  {
   "cell_type": "code",
   "execution_count": null,
   "metadata": {},
   "outputs": [],
   "source": [
    "print('El porcentaje de valores perdidos de las variables: \\n')\n",
    "for var in data.columns:\n",
    "    num_nan = data[var].isnull().sum()\n",
    "    print('{}: \\t\\t{} ({:,.2f}%)'.format(var, num_nan, num_nan*100/len(data)))"
   ]
  },
  {
   "cell_type": "markdown",
   "metadata": {},
   "source": [
    "Se tiene 17,17% de valores perdidos en la variable de pesos del producto, lo cual se puede solucionar asignando el peso de un producto similar o desde otro registro del mismo producto. De similar manera se puede realizar con los valores faltantes (28,27%) de la variable Tamaño del outlet."
   ]
  },
  {
   "cell_type": "markdown",
   "metadata": {},
   "source": [
    "Parte del dataset con valores perdidos en la variable 'Item_Weight':"
   ]
  },
  {
   "cell_type": "code",
   "execution_count": null,
   "metadata": {},
   "outputs": [],
   "source": [
    "data[data['Item_Weight'].isnull()].sort_values('Item_Identifier').head()"
   ]
  },
  {
   "cell_type": "code",
   "execution_count": null,
   "metadata": {},
   "outputs": [],
   "source": [
    "print(list(data[data['Item_Weight'].isnull()]['Outlet_Identifier'].unique()))"
   ]
  },
  {
   "cell_type": "markdown",
   "metadata": {},
   "source": [
    "Los valores faltantes de pesos de los productos corresponden a las tiendas cuyo código son 'OUT027' y 'OUT019'"
   ]
  },
  {
   "cell_type": "code",
   "execution_count": null,
   "metadata": {},
   "outputs": [],
   "source": [
    "print(len(list(data[data['Item_Weight'].isnull()]['Item_Identifier'].unique())))"
   ]
  },
  {
   "cell_type": "markdown",
   "metadata": {},
   "source": [
    "Se tienen 1559 productos de los 2439 registros con valores perdidos en la variable 'Item_Weight'"
   ]
  },
  {
   "cell_type": "markdown",
   "metadata": {},
   "source": [
    "Ahora se procede a rellenar los faltantes en los registros de pesos, basado en el valor modal del peso del producto. (Imputación de casos similares)"
   ]
  },
  {
   "cell_type": "markdown",
   "metadata": {},
   "source": [
    "#### LIMPIEZA: de faltantes en el peso de los productos"
   ]
  },
  {
   "cell_type": "code",
   "execution_count": null,
   "metadata": {},
   "outputs": [],
   "source": [
    "productos = list(data[data['Item_Weight'].isnull()]['Item_Identifier'].unique())\n",
    "for producto in productos:\n",
    "    moda = (data[data['Item_Identifier'] == producto][['Item_Weight']]).mode().iloc[0,0]\n",
    "    data.loc[data['Item_Identifier'] == producto, 'Item_Weight'] = moda"
   ]
  },
  {
   "cell_type": "markdown",
   "metadata": {},
   "source": [
    "Se verifica que no existan valores nulos para la variable peso del producto."
   ]
  },
  {
   "cell_type": "code",
   "execution_count": null,
   "metadata": {},
   "outputs": [],
   "source": [
    "print('El porcentaje de valores perdidos de la variable \"Item_Weight\" es de:', data['Item_Weight'].isnull().sum()/len(data)*100)"
   ]
  },
  {
   "cell_type": "markdown",
   "metadata": {},
   "source": [
    "Se procede a revisar los faltantes de la variable tamaño de la tienda."
   ]
  },
  {
   "cell_type": "code",
   "execution_count": null,
   "metadata": {},
   "outputs": [],
   "source": [
    "data[data['Outlet_Size'].isnull()].sort_values('Item_Identifier').tail(10)"
   ]
  },
  {
   "cell_type": "code",
   "execution_count": null,
   "metadata": {},
   "outputs": [],
   "source": [
    "print(list(data[data['Outlet_Size'].isnull()]['Outlet_Identifier'].unique()))"
   ]
  },
  {
   "cell_type": "markdown",
   "metadata": {},
   "source": [
    "Los valores faltantes de tamaño de la tienda corresponden a las tiendas cuyo código son 'OUT010', 'OUT045' y 'OUT017'"
   ]
  },
  {
   "cell_type": "markdown",
   "metadata": {},
   "source": [
    "Se procede primero a verificar qué valores de tamaño registran estas tiendas."
   ]
  },
  {
   "cell_type": "code",
   "execution_count": null,
   "metadata": {},
   "outputs": [],
   "source": [
    "outlets = list(data[data['Outlet_Size'].isnull()]['Outlet_Identifier'].unique())\n",
    "for outlet in outlets:\n",
    "    categoria = data[data['Outlet_Identifier'] == outlet]['Outlet_Size'].unique()\n",
    "    print(outlet, categoria)"
   ]
  },
  {
   "cell_type": "markdown",
   "metadata": {},
   "source": [
    "Se observa que estas 3 tiendas no tienen registros del tamaño de su tienda. Para dar solución a esto se buscará algún tipo de asociación de otra variable con el tamaño, para realizar la estimación de la categoría."
   ]
  },
  {
   "cell_type": "markdown",
   "metadata": {},
   "source": [
    "### Análisis Bi-variado:\n",
    "Variables Categóricas vs Categóricas:"
   ]
  },
  {
   "cell_type": "code",
   "execution_count": null,
   "metadata": {},
   "outputs": [],
   "source": [
    "sns.catplot(x=\"Outlet_Size\", hue='Outlet_Type', data=data, kind=\"count\", height=3, aspect=2)\n",
    "plt.title('Outlet Size vs Outlet_Type por Outlet Identifier')\n",
    "plt.show()"
   ]
  },
  {
   "cell_type": "markdown",
   "metadata": {},
   "source": [
    "- La mayoría de los \"Supermarket Type 1\" son de tamaño \"Small\".\n",
    "- Las tiendas \"Grocery Store\" son de tamaño \"Small\".\n",
    "- Las tiendas \"Supermarket Type 2\" y \"Supermarket Type 3\" son de tamaño \"Medium\"."
   ]
  },
  {
   "cell_type": "markdown",
   "metadata": {},
   "source": [
    "- Outlet_Size vs Outlet_Type"
   ]
  },
  {
   "cell_type": "code",
   "execution_count": null,
   "metadata": {},
   "outputs": [],
   "source": [
    "plt.figure(figsize=(10,6))\n",
    "sns.heatmap(pd.crosstab(data['Outlet_Size'], data['Outlet_Type'], margins=False, normalize=False), annot=True, square=False, fmt='', cbar_kws={\"orientation\": \"horizontal\"}, linewidths=0.5)\n",
    "plt.show()"
   ]
  },
  {
   "cell_type": "markdown",
   "metadata": {},
   "source": [
    "Se observa que no existe una relación entre el tipo de tienda y el tamaño de la misma. \n",
    "- Item_Type vs Outlet_Type"
   ]
  },
  {
   "cell_type": "code",
   "execution_count": null,
   "metadata": {},
   "outputs": [],
   "source": [
    "plt.figure(figsize=(10,12))\n",
    "sns.heatmap(pd.crosstab(data['Item_Type'], data['Outlet_Type'], normalize=False), annot=True, square=False, fmt='', cbar_kws={\"orientation\": \"horizontal\"}, linewidths=0.5)\n",
    "plt.show()"
   ]
  },
  {
   "cell_type": "markdown",
   "metadata": {},
   "source": [
    "El Supermarket Type 2 y 3 presentan distribución similar respecto de los tipos de productos, al igual que en el tamaño de la tienda.\n",
    "Vemos:\n",
    "- Outlet_Location_Type vs Outlet_Type"
   ]
  },
  {
   "cell_type": "code",
   "execution_count": null,
   "metadata": {},
   "outputs": [],
   "source": [
    "import statsmodels.api as sm\n",
    "tab = pd.crosstab(data['Outlet_Location_Type'], data['Outlet_Type'], margins=False, normalize=False)\n",
    "plt.figure(figsize=(10,6))\n",
    "sns.heatmap(tab, annot=True, square=False, fmt='', cbar_kws={\"orientation\": \"horizontal\"}, linewidths=0.5)\n",
    "plt.show()"
   ]
  },
  {
   "cell_type": "markdown",
   "metadata": {},
   "source": [
    "- La mayor cantidad de registros son de la tienda \"Supermarket Type 1\" y de tamaño \"Small\"; en primer lugar de la ubicación \"Tier 2\" y en segundo de  la ubicación \"Tier 1\"."
   ]
  },
  {
   "cell_type": "markdown",
   "metadata": {},
   "source": [
    "Veamos el tamaño de la tienda con respecto al nivel de ventas."
   ]
  },
  {
   "cell_type": "markdown",
   "metadata": {},
   "source": [
    "### Análisis Bi-variado:\n",
    "Variables Categóricas vs Continuas:\n",
    "- Veamos por un momento el tipo de tienda respecto a las ventas:"
   ]
  },
  {
   "cell_type": "code",
   "execution_count": null,
   "metadata": {},
   "outputs": [],
   "source": [
    "plt.figure(figsize=(10,4))\n",
    "sns.violinplot(x=data['Outlet_Type'], y=data[\"Item_Outlet_Sales\"])\n",
    "plt.show()\n",
    "\n",
    "# H0: las medias son significativamente iguales entre los grupos (Se utiliza el test de Kruskal-Wallis por tratarse de una variable que no tiene una distribución normal)\n",
    "print('\\n', stats.kruskal(list(data.dropna().loc[data['Outlet_Type']== 'Supermarket Type1', 'Item_Outlet_Sales']), \n",
    "            list(data.dropna().loc[data['Outlet_Type']== 'Supermarket Type2', 'Item_Outlet_Sales']),\n",
    "            list(data.dropna().loc[data['Outlet_Type']== 'Supermarket Type3', 'Item_Outlet_Sales']),\n",
    "             list(data.dropna().loc[data['Outlet_Type']== 'Grocery Store', 'Item_Outlet_Sales'])))"
   ]
  },
  {
   "cell_type": "markdown",
   "metadata": {},
   "source": [
    "- Se evidencia diferencias significativas en los niveles de ventas por tipo de tienda.\n",
    "- La distribución de frecuencia de las variables estudiadas arriba son similares para los tipos de tiendas \"Supermarket Type 2\" y \"Supermarket Type 3\"; sin embargo no lo es así el comportamiento de las ventas. Se dejarán estas categorias separadas como están originalmente."
   ]
  },
  {
   "cell_type": "code",
   "execution_count": null,
   "metadata": {},
   "outputs": [],
   "source": [
    "sns.boxplot(x=\"Outlet_Size\", y=\"Item_Outlet_Sales\", data=data)\n",
    "plt.show()\n",
    "\n",
    "med=data.dropna().loc[data['Outlet_Size']=='Medium', 'Item_Outlet_Sales']\n",
    "hig=data.dropna().loc[data['Outlet_Size']=='High', 'Item_Outlet_Sales']\n",
    "sma=data.dropna().loc[data['Outlet_Size']=='Small', 'Item_Outlet_Sales']\n",
    "\n",
    "sns.distplot(sma, kde=True, hist=False, label='Small'), sns.distplot(med, kde=True, hist=False, label='Medium'), sns.distplot(hig, kde=True, hist=False, label='High')\n",
    "plt.show()\n",
    "\n",
    "# Cálculo de promedios de ventas de cada tamaño de tienda\n",
    "print('\\nVentas promedios (Small):', sma.mean())\n",
    "print('Ventas promedios (Medium):', med.mean())\n",
    "print('Ventas promedios (High):', hig.mean())\n",
    "\n",
    "print('\\n', stats.kruskal(list(med), list(hig), list(sma)))  # H0: las medias son significativamente iguales entre los grupos"
   ]
  },
  {
   "cell_type": "markdown",
   "metadata": {},
   "source": [
    "Mediante la prueba de Kruskal-Wallis se evidencia diferencias significativas en los niveles de venta para los distintos tamaños de tiendas.\n",
    "\n",
    "Se somete a prueba las diferencias estadísticas entre el tamaño de tienda Small y High, para descartar similitud en sus ventas:"
   ]
  },
  {
   "cell_type": "code",
   "execution_count": null,
   "metadata": {},
   "outputs": [],
   "source": [
    "stats.mannwhitneyu(list(hig), list(med))  # H0: las medias son significativamente iguales para ambos grupos"
   ]
  },
  {
   "cell_type": "markdown",
   "metadata": {},
   "source": [
    "Se evidencia diferencias significativas entre las ventas promedios de ambos tamaños de tiendas (Medium y High).\n",
    "\n",
    "Seguidamente se visualiza el comportamiento de las ventas de las tiendas que presentan VALORES PERDIDOS en el tamaño de tienda (Outlet_Size):"
   ]
  },
  {
   "cell_type": "code",
   "execution_count": null,
   "metadata": {},
   "outputs": [],
   "source": [
    "data_aux = data[data['Outlet_Size'].isnull()]\n",
    "plt.figure(figsize=(10,4))\n",
    "sns.boxplot(x=\"Outlet_Identifier\", y=\"Item_Outlet_Sales\", data=data_aux)\n",
    "plt.show()"
   ]
  },
  {
   "cell_type": "markdown",
   "metadata": {},
   "source": [
    "Los valores de ventas en la tienda OUT10 son muy pequeños en comparación a las tiendas OUT17 y OUT45.\n",
    "\n",
    "Graficando los diagramas box-plot de los niveles de ventas de las tiendas según tamaño (Oulet_Size) vs tipo de tienda (Outlet_Type):"
   ]
  },
  {
   "cell_type": "code",
   "execution_count": null,
   "metadata": {},
   "outputs": [],
   "source": [
    "plt.figure(figsize=(15,4))\n",
    "sns.boxplot(x=\"Outlet_Identifier\", y=\"Item_Outlet_Sales\", hue='Outlet_Size', data=data)\n",
    "plt.show()"
   ]
  },
  {
   "cell_type": "markdown",
   "metadata": {},
   "source": [
    "No se muestra algún patrón que se deba destacar.\n",
    "\n",
    "Graficando diagramas box-plot de los niveles de ventas de las tiendas según el tipo de tienda (Outlet_Type):"
   ]
  },
  {
   "cell_type": "code",
   "execution_count": null,
   "metadata": {},
   "outputs": [],
   "source": [
    "plt.figure(figsize=(15,6))\n",
    "sns.boxplot(x=\"Outlet_Identifier\", y=\"Item_Outlet_Sales\", hue='Outlet_Type', data=data)\n",
    "plt.show()"
   ]
  },
  {
   "cell_type": "markdown",
   "metadata": {},
   "source": [
    "Se observa que la tienda OUT10 tiene un comportamiento similar en el nivel de ventas, que las tiendas OUT17 y OUT45 tienen coportamientos similares en sus ventas a las tiendas OUT13 y OUT46 respectivamente."
   ]
  },
  {
   "cell_type": "markdown",
   "metadata": {},
   "source": [
    "Se decide asignar a todos los valores perdidos del tamaño de las tiendas, la categoria \"Small\".\n",
    "\n",
    "Tomando en consideración lo siguiente:\n",
    "- El OUT10 es una tienda de tipo \"Grocery Store\" (lo que implica ser una tienda pequeña) y además tiene unas ventas similares al OUT19.\n",
    "- El OUT17 es una tienda de tipo \"Supermarket Type 1\" (la mayoría de las tiendas \"Supermarket Type 1\" son de tamaño \"Small\").\n",
    "- El OUT45 es una tienda de tipo \"Supermarket Type 1\" (la mayoría de las tiendas \"Supermarket Type 1\" son de tamaño \"Small\")."
   ]
  },
  {
   "cell_type": "markdown",
   "metadata": {},
   "source": [
    "#### LIMPIEZA: de faltantes en el tamaño de las tiendas"
   ]
  },
  {
   "cell_type": "code",
   "execution_count": null,
   "metadata": {},
   "outputs": [],
   "source": [
    "for outlet in outlets:\n",
    "    data.loc[data['Outlet_Identifier'] == outlet, 'Outlet_Size'] =  'Small'"
   ]
  },
  {
   "cell_type": "markdown",
   "metadata": {},
   "source": [
    "Se verifica que no existan valores nulos para la variable peso del producto."
   ]
  },
  {
   "cell_type": "code",
   "execution_count": null,
   "metadata": {},
   "outputs": [],
   "source": [
    "print('El porcentaje de valores perdidos de la variable \"Outlet_Size\" es de:', data['Outlet_Size'].isnull().sum()/len(data)*100)"
   ]
  },
  {
   "cell_type": "markdown",
   "metadata": {},
   "source": [
    "Verificamos de nuevo los valores perdidos:"
   ]
  },
  {
   "cell_type": "code",
   "execution_count": null,
   "metadata": {},
   "outputs": [],
   "source": [
    "print('El porcentaje de valores perdidos de las variables: \\n')\n",
    "for var in data.columns:\n",
    "    print('{} \\t\\t {:,.2f}%:'.format(var, data[var].isnull().sum()/len(data)*100))"
   ]
  },
  {
   "cell_type": "markdown",
   "metadata": {},
   "source": [
    "El 40% de valores perdidos que se observa arriba, corresponde a los datos de test que no contiene esta variale (por ser la variable respuesta que queremos obtener)."
   ]
  },
  {
   "cell_type": "markdown",
   "metadata": {},
   "source": [
    "Verificando de nuevo los valores de la variables categóricas:"
   ]
  },
  {
   "cell_type": "code",
   "execution_count": null,
   "metadata": {},
   "outputs": [],
   "source": [
    "for aux in ['Item_Fat_Content', 'Item_Type', 'Outlet_Identifier', 'Outlet_Size', 'Outlet_Location_Type', 'Outlet_Type']:\n",
    "    print(aux, ':', set(data[aux]))"
   ]
  },
  {
   "cell_type": "markdown",
   "metadata": {},
   "source": [
    "Ya se cuenta con un dataset un poco más limpio. Falta verificar las variables numéricas y recodificar las categorias de la variable \"Item_Type\"; para esta recodificación prodecemos a realizar primero una pruebas de significancia estadísticas. Pero antes, vemos algunos otros comportamientos bivariados:"
   ]
  },
  {
   "cell_type": "code",
   "execution_count": null,
   "metadata": {},
   "outputs": [],
   "source": [
    "for var in ['Item_Fat_Content', 'Outlet_Identifier', 'Outlet_Size', 'Outlet_Location_Type', 'Outlet_Type', 'Outlet_Establishment_Year']:\n",
    "    plt.figure(figsize=(len(data[var].unique())*2,4))\n",
    "    sns.violinplot(x=var, y=\"Item_Outlet_Sales\", data=data)\n",
    "    plt.show()"
   ]
  },
  {
   "cell_type": "markdown",
   "metadata": {},
   "source": [
    "Los valores de ventas de las diferentes categorias no tienen distribución normal. Se utilizará el test de Kruskal-Wallis (técnica no paramétrica) para determinar relación significativa entre las distintas variables y los niveles de ventas de la tiendas (TARGET)."
   ]
  },
  {
   "cell_type": "code",
   "execution_count": null,
   "metadata": {},
   "outputs": [],
   "source": [
    "# H0: las medias son significativamente iguales entre los grupos\n",
    "print('Test de Kruskal-Wallis para Item_Fat_Content vs Item_Outlet_Sales:\\n\\t', stats.kruskal(list(data.dropna().loc[data['Item_Fat_Content'] == 'Low Fat', 'Item_Outlet_Sales']), \n",
    "                                                                                         list(data.dropna().loc[data['Item_Fat_Content'] == 'Regular', 'Item_Outlet_Sales'])))\n",
    "\n",
    "# H0: las medias son significativamente iguales entre los grupos\n",
    "print('Test de Kruskal-Wallis para Item_Fat_Content vs Item_Outlet_Sales:\\n\\t', stats.kruskal(list(data.dropna().loc[data['Outlet_Location_Type'] == 'Tier 1', 'Item_Outlet_Sales']), \n",
    "                                                                                         list(data.dropna().loc[data['Outlet_Location_Type'] == 'Tier 2', 'Item_Outlet_Sales']), \n",
    "                                                                                         list(data.dropna().loc[data['Outlet_Location_Type'] == 'Tier 3', 'Item_Outlet_Sales'])))"
   ]
  },
  {
   "cell_type": "markdown",
   "metadata": {},
   "source": [
    "En los graficos de violin se puede visualizar que el contenido de grasa en los productos no presenta influencia sobre el nivel de ventas y que las otras variables categóricas analizadas si tienen influencia sobre la variable TARGET; esto es corroborado por los test de Kruskal-Wallis realizados.\n",
    "\n",
    "Respecto de la variable contenido de grasa de los productos, dicha conclusión arriba hecha no se corresponde con lo que se espera; lo que sugiere revisar más a fondo el registro de estas categorias. Para ello, realicemos una vista general de los datos:"
   ]
  },
  {
   "cell_type": "code",
   "execution_count": null,
   "metadata": {},
   "outputs": [],
   "source": [
    "data[data['Item_Fat_Content'] == 'Low Fat'].head()"
   ]
  },
  {
   "cell_type": "markdown",
   "metadata": {},
   "source": [
    "En la 3ra linea se encuentra una inconsistencia; no tiene sentido clasificar como \"Low Fat\" un producto del hogar. Veamos esto en un gráfico agrupado:"
   ]
  },
  {
   "cell_type": "code",
   "execution_count": null,
   "metadata": {},
   "outputs": [],
   "source": [
    "sns.catplot(y=\"Item_Type\", hue=\"Item_Fat_Content\", kind=\"count\", data=data, height=6, aspect=2)\n",
    "plt.show()"
   ]
  },
  {
   "cell_type": "markdown",
   "metadata": {},
   "source": [
    "Existen productos con categoría \"Low Fat\" que no son comestibles o que simplemente no tienen ningún contenido de grasa, para ser consistentes se asigna una nueva categoría NA (No aplica) para los tipos de productos Household, Health and Hygiene, Hard Drinks, Soft Drinks, Fruits and Vegetables:"
   ]
  },
  {
   "cell_type": "markdown",
   "metadata": {},
   "source": [
    "## Features Engineering"
   ]
  },
  {
   "cell_type": "markdown",
   "metadata": {},
   "source": [
    "#### FEATURES ENGINEERING: asignación de nueva categorías para 'Item_Fat_Content'"
   ]
  },
  {
   "cell_type": "code",
   "execution_count": null,
   "metadata": {},
   "outputs": [],
   "source": [
    "# FEATURES ENGINEERING: asignación de nueva categorías para 'Item_Fat_Content'\n",
    "for prod in ['Household', 'Health and Hygiene', 'Hard Drinks', 'Soft Drinks', 'Fruits and Vegetables']:\n",
    "    data.loc[data['Item_Type'] == prod, 'Item_Fat_Content'] = 'NA'\n",
    "sns.catplot(y=\"Item_Type\", hue=\"Item_Fat_Content\", kind=\"count\", data=data, height=6, aspect=2)\n",
    "plt.show()"
   ]
  },
  {
   "cell_type": "markdown",
   "metadata": {},
   "source": [
    "Analicemos los niveles de ventas por contenido de grasa de los productos:"
   ]
  },
  {
   "cell_type": "code",
   "execution_count": null,
   "metadata": {},
   "outputs": [],
   "source": [
    "# H0: las medias son significativamente iguales entre los grupos\n",
    "stats.kruskal(list(data.dropna().loc[data['Item_Fat_Content']== 'Low Fat', 'Item_Outlet_Sales']), list(data.dropna().loc[data['Item_Fat_Content']== 'Regular', 'Item_Outlet_Sales']),\n",
    "             list(data.dropna().loc[data['Item_Fat_Content']== 'NA', 'Item_Outlet_Sales']))  "
   ]
  },
  {
   "cell_type": "markdown",
   "metadata": {},
   "source": [
    "No se evidencia diferencias significativas en los niveles de ventas entre las 3 categorias de la característica Item_Fat_Content. Veamos un gráfico de ello:"
   ]
  },
  {
   "cell_type": "code",
   "execution_count": null,
   "metadata": {},
   "outputs": [],
   "source": [
    "sns.violinplot(x=\"Item_Fat_Content\", y='Item_Outlet_Sales', kind=\"bar\", data=data)\n",
    "plt.show()"
   ]
  },
  {
   "cell_type": "code",
   "execution_count": null,
   "metadata": {},
   "outputs": [],
   "source": [
    "sns.catplot(x=\"Item_Type\", y='Item_Outlet_Sales', hue=\"Item_Fat_Content\", kind=\"bar\", data=data, height=5, aspect=4)\n",
    "plt.show()"
   ]
  },
  {
   "cell_type": "markdown",
   "metadata": {},
   "source": [
    "De forma similar lo vemos en el gráfico por tipo de producto, intentemos reagrupar dichas categoría para buscar una relación significativa con el nivel de ventas.\n",
    "\n",
    "Veamos una clasificación por usos:\n",
    "- Consultando las categorias de idenificación de los tipos de productos"
   ]
  },
  {
   "cell_type": "code",
   "execution_count": null,
   "metadata": {},
   "outputs": [],
   "source": [
    "print(list(data[data['Item_Type'] == 'Others']['Item_Identifier'].unique()))"
   ]
  },
  {
   "cell_type": "code",
   "execution_count": null,
   "metadata": {},
   "outputs": [],
   "source": [
    "print(list(data[data['Item_Type'] == 'Health and Hygiene']['Item_Identifier'].unique()))"
   ]
  },
  {
   "cell_type": "code",
   "execution_count": null,
   "metadata": {},
   "outputs": [],
   "source": [
    "print(list(data[data['Item_Type'] == 'Household']['Item_Identifier'].unique()))"
   ]
  },
  {
   "cell_type": "markdown",
   "metadata": {},
   "source": [
    "En general se observa: FD = ALIMENTOS - NC = HOGAR, SALUD E HIG, OTROS - DR = BEBIDAS, "
   ]
  },
  {
   "cell_type": "raw",
   "metadata": {},
   "source": [
    "'Others', 'Health and Hygiene', 'Household', 'Baking Goods', 'Breakfast', 'Snack Foods', 'Dairy', 'Fruits and Vegetables', 'Breads', 'Seafood', 'Soft Drinks', 'Starchy Foods', 'Meat', 'Frozen Foods', 'Canned', 'Hard Drinks\n",
    "\n",
    "ESPAÑOL:\n",
    "'Otros', 'Salud e higiene', 'Hogar', 'Productos para hornear', 'Desayuno', 'Snack Foods', 'Lácteos', 'Frutas y verduras', 'Panes', 'Mariscos', 'Refrescos' , 'Alimentos con almidón', 'Carne', 'Alimentos congelados', 'Enlatados', 'Bebidas Duras\n",
    "\n",
    "RECATEGORIZACIÓN SUGERIDA (de acuerdo a la similitud entre los productos):\n",
    "1- 'Non perishable':       'Others', 'Health and Hygiene', 'Household'\n",
    "2- 'Fruits and Vegetables' \n",
    "3- 'Meats':                'Seafood', 'Meat'\n",
    "4- 'Processed Foods':      'Baking Goods', 'Frozen Foods', 'Canned'\n",
    "5- 'Starchy Foods':        'Breads', 'Starchy Foods', 'Snack Foods', 'Breakfast'\n",
    "6- 'Drinks':               'Soft Drinks', 'Hard Drinks, 'Dairy'"
   ]
  },
  {
   "cell_type": "markdown",
   "metadata": {},
   "source": [
    "#### FEATURES ENGINEERING: creando categorías para 'Item_Type'"
   ]
  },
  {
   "cell_type": "code",
   "execution_count": null,
   "metadata": {},
   "outputs": [],
   "source": [
    "# FEATURES ENGINEERING: creando categorías para 'Item_Type'\n",
    "data['Item_Type'] = data['Item_Type'].replace({'Others': 'Non perishable', 'Health and Hygiene': 'Non perishable', 'Household': 'Non perishable',\n",
    " 'Seafood': 'Meats', 'Meat': 'Meats',\n",
    " 'Baking Goods': 'Processed Foods', 'Frozen Foods': 'Processed Foods', 'Canned': 'Processed Foods', 'Snack Foods': 'Processed Foods',\n",
    " 'Breads': 'Starchy Foods', 'Breakfast': 'Starchy Foods',\n",
    " 'Soft Drinks': 'Drinks', 'Hard Drinks': 'Drinks', 'Dairy': 'Drinks'})\n",
    "\n",
    "# FEATURES ENGINEERING: asignación de nueva categorías para 'Item_Fat_Content'\n",
    "data.loc[data['Item_Type'] == 'Non perishable', 'Item_Fat_Content'] = 'NA'"
   ]
  },
  {
   "cell_type": "markdown",
   "metadata": {},
   "source": [
    "Visualicemos de nuevo esta recategorización en un gráfico:"
   ]
  },
  {
   "cell_type": "code",
   "execution_count": null,
   "metadata": {},
   "outputs": [],
   "source": [
    "#plt.figure(figsize=(12,4))\n",
    "#sns.violinplot(x=\"Item_Type\", y='Item_Outlet_Sales', hue=\"Item_Fat_Content\", data=data)\n",
    "#plt.show()\n",
    "\n",
    "plt.figure(figsize=(12,4))\n",
    "sns.violinplot(x='Item_Type', y=\"Item_Outlet_Sales\", data=data)\n",
    "plt.show()"
   ]
  },
  {
   "cell_type": "code",
   "execution_count": null,
   "metadata": {},
   "outputs": [],
   "source": [
    "data['Item_Type'].unique()"
   ]
  },
  {
   "cell_type": "code",
   "execution_count": null,
   "metadata": {},
   "outputs": [],
   "source": [
    "# H0: las medias son significativamente iguales entre los grupos\n",
    "stats.kruskal(list(data.dropna().loc[data['Item_Type']== 'Drinks', 'Item_Outlet_Sales']), list(data.dropna().loc[data['Item_Type']== 'Meats', 'Item_Outlet_Sales']),\n",
    "             list(data.dropna().loc[data['Item_Type']== 'Fruits and Vegetables', 'Item_Outlet_Sales']), \n",
    "             list(data.dropna().loc[data['Item_Type']== 'Non perishable', 'Item_Outlet_Sales']),\n",
    "             list(data.dropna().loc[data['Item_Type']== 'Fruits and Vegetables', 'Item_Outlet_Sales']),\n",
    "             list(data.dropna().loc[data['Item_Type']== 'Processed Foods', 'Item_Outlet_Sales']),\n",
    "             list(data.dropna().loc[data['Item_Type']== 'Starchy Foods', 'Item_Outlet_Sales']))  "
   ]
  },
  {
   "cell_type": "markdown",
   "metadata": {},
   "source": [
    "No se evidencia diferencias en los niveles de ventas entre las diferentes categorias de tipo de productos (reagrupados)."
   ]
  },
  {
   "cell_type": "markdown",
   "metadata": {},
   "source": [
    "### Análisis Bi-variado:\n",
    "Variables Continuas vs Continuas"
   ]
  },
  {
   "cell_type": "code",
   "execution_count": null,
   "metadata": {},
   "outputs": [],
   "source": [
    "numerics_var = ['Item_Weight', 'Item_Visibility', 'Item_MRP', 'Item_Outlet_Sales']\n",
    "sns.pairplot(data.dropna(), x_vars=numerics_var, y_vars=numerics_var, kind='scatter', diag_kind='kde' )\n",
    "#plt.savefig('hist_scatter')\n",
    "plt.show()"
   ]
  },
  {
   "cell_type": "markdown",
   "metadata": {},
   "source": [
    "No se observa alguna relación significativa entre las variables, lo que señala la necesidad de preprocesar los datos y realizar algunas transformaciones.\n",
    "\n",
    "Veamos las correlaciones entre estas variables."
   ]
  },
  {
   "cell_type": "code",
   "execution_count": null,
   "metadata": {},
   "outputs": [],
   "source": [
    "data[numerics_var].corr()"
   ]
  },
  {
   "cell_type": "markdown",
   "metadata": {},
   "source": [
    "- La característica con correlación más alta es Item_MRP (r=0.57), corresponde a una correlación de nivel moderado.\n",
    "- El Target guarda una relación casi nula con los pesos de los productos, mientras que con el grado de visibilidad del producto se observa una correlación baja negativa (r=-0.13). Esta última correlación no parece tener sentido, lo que sugiere que estos valores puede que no esten bien registrados.\n",
    "- Un aspecto positivo es que la correlación entre las variables independientes es baja, lo que indica que no existe autocorrelación entre estas vraiables."
   ]
  },
  {
   "cell_type": "markdown",
   "metadata": {},
   "source": [
    "#### FEATURES ENGINEERING: Codificando los niveles de precios de los productos"
   ]
  },
  {
   "cell_type": "code",
   "execution_count": null,
   "metadata": {},
   "outputs": [],
   "source": [
    "print(pd.qcut(data['Item_MRP'], 4,).unique())\n",
    "data['Item_MRP'] = pd.qcut(data['Item_MRP'], 4, labels = [1, 2, 3, 4])"
   ]
  },
  {
   "cell_type": "markdown",
   "metadata": {},
   "source": [
    "### Codificación de variables ordinales:\n",
    "Esta vez no se considera tomar las características: 'Item_Type' y 'Item_Fat_Content'"
   ]
  },
  {
   "cell_type": "markdown",
   "metadata": {},
   "source": [
    "Se utiliza una copia de data para separar los valores codificados en un dataframe distinto."
   ]
  },
  {
   "cell_type": "code",
   "execution_count": null,
   "metadata": {},
   "outputs": [],
   "source": [
    "dataframe = data.drop(columns=['Item_Type', 'Item_Fat_Content']).copy()\n",
    "dataframe.head()"
   ]
  },
  {
   "cell_type": "markdown",
   "metadata": {},
   "source": [
    "Se decide realizar una codificación manual y no con algún método automático, para guardar el orden de los valores."
   ]
  },
  {
   "cell_type": "code",
   "execution_count": null,
   "metadata": {},
   "outputs": [],
   "source": [
    "ordinals_var = ['Outlet_Size', 'Outlet_Location_Type']\n",
    "\n",
    "for var in ordinals_var:\n",
    "    serie_var = dataframe[var].unique()\n",
    "    serie_var.sort()\n",
    "    print(var, ':', serie_var)"
   ]
  },
  {
   "cell_type": "markdown",
   "metadata": {},
   "source": [
    "#### FEATURES ENGINEERING: Codificación de variables ordinales"
   ]
  },
  {
   "cell_type": "code",
   "execution_count": null,
   "metadata": {},
   "outputs": [],
   "source": [
    "# Codificación de variables ordinales\n",
    "dataframe['Outlet_Size'] = dataframe['Outlet_Size'].replace({'High': 2, 'Medium': 1, 'Small': 0})\n",
    "dataframe['Outlet_Location_Type'] = dataframe['Outlet_Location_Type'].replace({'Tier 1': 2, 'Tier 2': 1, 'Tier 3': 0}) # Estas categorias se ordenaron asumiendo la categoria 2 como más lejos\n",
    "dataframe.head()"
   ]
  },
  {
   "cell_type": "markdown",
   "metadata": {},
   "source": [
    "#### FEATURES ENGINEERING: Codificación de variables nominales"
   ]
  },
  {
   "cell_type": "code",
   "execution_count": null,
   "metadata": {},
   "outputs": [],
   "source": [
    "dataframe = pd.get_dummies(dataframe, columns=['Outlet_Type'])\n",
    "dataframe.head()"
   ]
  },
  {
   "cell_type": "code",
   "execution_count": null,
   "metadata": {},
   "outputs": [],
   "source": [
    "print(dataframe.info())"
   ]
  },
  {
   "cell_type": "markdown",
   "metadata": {},
   "source": [
    "Revisamos los valores de correlación:"
   ]
  },
  {
   "cell_type": "code",
   "execution_count": null,
   "metadata": {},
   "outputs": [],
   "source": [
    "mask = np.zeros_like(dataframe.corr(), dtype=np.bool)\n",
    "mask[np.triu_indices_from(mask)] = True\n",
    "plt.figure(figsize=(12,12))\n",
    "sns.heatmap(dataframe.corr(), mask=mask, vmax=.3, center=0, annot=True, square=True, linewidths=.5, cbar_kws={\"shrink\": .6})\n",
    "plt.show()"
   ]
  },
  {
   "cell_type": "markdown",
   "metadata": {},
   "source": [
    "- El coeficiente de correlación entre las variables independientes es entre bajo y medio, lo que indica que no existe autocorrelación fuerte entre estas variables."
   ]
  },
  {
   "cell_type": "markdown",
   "metadata": {},
   "source": [
    "### Preparando data de entrenamiento y de test"
   ]
  },
  {
   "cell_type": "code",
   "execution_count": null,
   "metadata": {},
   "outputs": [],
   "source": [
    "# Eliminación de variables que no contribuyen a la predicción por ser muy específicas\n",
    "dataset = dataframe.drop(columns=['Item_Identifier', 'Outlet_Identifier'])\n",
    "\n",
    "# División del dataset de train y test\n",
    "df_train = dataset.loc[data['Set'] == 'train']\n",
    "df_test = dataset.loc[data['Set'] == 'test']\n",
    "\n",
    "# Eliminando columnas sin datos\n",
    "df_train.drop(['Set'], axis=1, inplace=True)\n",
    "df_test.drop(['Item_Outlet_Sales','Set'], axis=1, inplace=True)\n",
    "\n",
    "# Guardando los datasets\n",
    "df_train.to_csv(\"train_final.csv\")\n",
    "df_test.to_csv(\"test_final.csv\")"
   ]
  },
  {
   "cell_type": "code",
   "execution_count": null,
   "metadata": {},
   "outputs": [],
   "source": [
    "df_train.head()"
   ]
  },
  {
   "cell_type": "code",
   "execution_count": null,
   "metadata": {},
   "outputs": [],
   "source": [
    "df_test.head()"
   ]
  },
  {
   "cell_type": "markdown",
   "metadata": {},
   "source": [
    "#### ENTRENAMIENTO"
   ]
  },
  {
   "cell_type": "code",
   "execution_count": null,
   "metadata": {},
   "outputs": [],
   "source": [
    "# Importando librerías para el modelo\n",
    "from sklearn.model_selection import train_test_split, cross_validate, cross_val_score\n",
    "from sklearn import metrics\n",
    "from sklearn.linear_model import LinearRegression\n",
    "\n",
    "seed = 28\n",
    "model = LinearRegression()\n",
    "\n",
    "# División de dataset de entrenaimento y validación\n",
    "X = df_train.drop(columns='Item_Outlet_Sales') #[['Item_Weight', 'Item_MRP', 'Outlet_Establishment_Year', 'Outlet_Size', 'Outlet_Location_Type']] # .drop(columns='Item_Outlet_Sales')\n",
    "x_train, x_val, y_train, y_val = train_test_split(X, df_train['Item_Outlet_Sales'], test_size = 0.3, random_state=seed)\n",
    "\n",
    "# Entrenamiento del modelo\n",
    "model.fit(x_train,y_train)\n",
    "\n",
    "# Predicción del modelo ajustado para el conjunto de validación\n",
    "pred = model.predict(x_val)\n",
    "\n",
    "# Cálculo de los errores cuadráticos medios y Coeficiente de Determinación (R^2)\n",
    "mse_train = metrics.mean_squared_error(y_train, model.predict(x_train))\n",
    "R2_train = model.score(x_train, y_train)\n",
    "print('Métricas del Modelo:')\n",
    "print('ENTRENAMIENTO: RMSE: {:.2f} - R2: {:.4f}'.format(mse_train**0.5, R2_train))\n",
    "\n",
    "mse_val = metrics.mean_squared_error(y_val, pred)\n",
    "R2_val = model.score(x_val, y_val)\n",
    "print('VALIDACIÓN: RMSE: {:.2f} - R2: {:.4f}'.format(mse_val**0.5, R2_val))\n",
    "\n",
    "print('\\nCoeficientes del Modelo:')\n",
    "# Constante del modelo\n",
    "print('Intersección: {:.2f}'.format(model.intercept_))\n",
    "\n",
    "# Coeficientes del modelo\n",
    "coef = pd.DataFrame(x_train.columns, columns=['features'])\n",
    "coef['Coeficiente Estimados'] = model.coef_\n",
    "print(coef, '\\n')\n",
    "coef.sort_values(by='Coeficiente Estimados').set_index('features').plot(kind='bar', title='Importancia de las variables', figsize=(12, 6))\n",
    "\n",
    "plt.show()"
   ]
  },
  {
   "cell_type": "markdown",
   "metadata": {},
   "source": [
    "## Principales variables utilizadas por el modelo:\n",
    "- Con relación directa: Outlet_Type_Supermarket Type3, Item_MRP\n",
    "- Con relación inversa: Outlet_Type_Grocery Store, Item_Visibility"
   ]
  },
  {
   "cell_type": "markdown",
   "metadata": {},
   "source": [
    "## SUPUESTO DE REGRESIÓN LINEAL:\n",
    "1. Existe relación lineal entre la *variable respuesta y las variables predictoras.*\n",
    "2. Las variables predictoras (independientes) no están correlacionadas entre sí. La presencia de colinealidad conduce a un fenómeno conocido como multicolinealidad. \n",
    "3. Los residuos no están correlacionados. De lo contrario, presentará autocorrelación. \n",
    "4. Los residuos deben tener una varianza constante. La varianza no constante conduce a heterocedasticidad."
   ]
  },
  {
   "cell_type": "code",
   "execution_count": null,
   "metadata": {},
   "outputs": [],
   "source": [
    "import scipy.stats as stats\n",
    "\n",
    "res = pred - y_val\n",
    "print('Coeficiente de asimetría:', res.skew())\n",
    "sm.qqplot(res, stats.t, fit=True, line='45')\n",
    "plt.show()\n",
    "plt.hist(res)\n",
    "plt.show()"
   ]
  },
  {
   "cell_type": "markdown",
   "metadata": {},
   "source": [
    "Los residuos no presentan distribución normal, y tienen una asimetría izquierda."
   ]
  },
  {
   "cell_type": "code",
   "execution_count": null,
   "metadata": {},
   "outputs": [],
   "source": [
    "# residual plot \n",
    "plt.figure(figsize=(12,6))\n",
    "x_plot = plt.scatter(pred, (pred - y_val), c='g') \n",
    "plt.hlines(y=0, xmin= -1100, xmax=5100)\n",
    "plt.xlabel('Valores ajustados o predichos')\n",
    "plt.ylabel('Valores Residuales')\n",
    "plt.title('Valores residuales vs predichos')\n",
    "plt.show()"
   ]
  },
  {
   "cell_type": "markdown",
   "metadata": {},
   "source": [
    "El gráfico presenta forma de embudo, no existe sesgo pero si *heterocedasticidad*; la dispersión vertical indica varianza no constante."
   ]
  },
  {
   "cell_type": "markdown",
   "metadata": {},
   "source": [
    "### Aplicación del modelo en el dataset de test"
   ]
  },
  {
   "cell_type": "code",
   "execution_count": null,
   "metadata": {},
   "outputs": [],
   "source": [
    "# Predicción del modelo ajustado\n",
    "data_test = df_test.copy()\n",
    "data_test['pred_Sales'] = model.predict(data_test)\n",
    "data_test.to_csv('data_test')\n",
    "data_test.head()"
   ]
  },
  {
   "cell_type": "code",
   "execution_count": null,
   "metadata": {},
   "outputs": [],
   "source": [
    "mask = np.zeros_like(data_test.corr(), dtype=np.bool)\n",
    "mask[np.triu_indices_from(mask)] = True\n",
    "plt.figure(figsize=(12,12))\n",
    "sns.heatmap(data_test.corr(), mask=mask, vmax=.3, center=0, annot=True, square=True, linewidths=.5, cbar_kws={\"shrink\": .6})\n",
    "plt.show()"
   ]
  },
  {
   "cell_type": "markdown",
   "metadata": {},
   "source": [
    "Se obtienen valores similares de correlación entre las variables."
   ]
  }
 ],
 "metadata": {
  "kernelspec": {
   "display_name": "Python 3",
   "language": "python",
   "name": "python3"
  },
  "language_info": {
   "codemirror_mode": {
    "name": "ipython",
    "version": 3
   },
   "file_extension": ".py",
   "mimetype": "text/x-python",
   "name": "python",
   "nbconvert_exporter": "python",
   "pygments_lexer": "ipython3",
   "version": "3.7.4"
  }
 },
 "nbformat": 4,
 "nbformat_minor": 4
}
